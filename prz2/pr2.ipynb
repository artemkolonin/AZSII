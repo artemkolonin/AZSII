{
  "nbformat": 4,
  "nbformat_minor": 0,
  "metadata": {
    "colab": {
      "provenance": [],
      "gpuType": "T4"
    },
    "kernelspec": {
      "name": "python3",
      "display_name": "Python 3"
    },
    "language_info": {
      "name": "python"
    },
    "accelerator": "GPU"
  },
  "cells": [
    {
      "cell_type": "code",
      "execution_count": null,
      "metadata": {
        "colab": {
          "base_uri": "https://localhost:8080/"
        },
        "id": "W3eYWStkrSKd",
        "outputId": "20e1cc6f-7a5a-41f6-9160-6252c5ccf17d"
      },
      "outputs": [
        {
          "output_type": "stream",
          "name": "stdout",
          "text": [
            "fatal: destination path 'EEL6812_DeepFool_Project' already exists and is not an empty directory.\n"
          ]
        }
      ],
      "source": [
        "!git clone https://github.com/ewatson2/EEL6812_DeepFool_Project"
      ]
    },
    {
      "cell_type": "code",
      "source": [
        "%cd EEL6812_DeepFool_Project/"
      ],
      "metadata": {
        "colab": {
          "base_uri": "https://localhost:8080/"
        },
        "id": "IVX8MQvTrm8n",
        "outputId": "c0c3e9ca-5546-4d47-f490-0eb44bf7d952"
      },
      "execution_count": null,
      "outputs": [
        {
          "output_type": "stream",
          "name": "stdout",
          "text": [
            "/content/EEL6812_DeepFool_Project\n"
          ]
        }
      ]
    },
    {
      "cell_type": "code",
      "source": [
        "import numpy as np\n",
        "import json, torch\n",
        "from torch.utils.data import DataLoader, random_split\n",
        "from torchvision import datasets, models\n",
        "from torchvision.transforms import transforms"
      ],
      "metadata": {
        "id": "1an1erqRruxk"
      },
      "execution_count": null,
      "outputs": []
    },
    {
      "cell_type": "code",
      "source": [
        "from models.project_models import FC_500_150, LeNet_CIFAR, LeNet_MNIST, Net\n",
        "from utils.project_utils import get_clip_bounds, evaluate_attack, display_attack"
      ],
      "metadata": {
        "id": "1a-_Ug-Ir31L"
      },
      "execution_count": null,
      "outputs": []
    },
    {
      "cell_type": "code",
      "source": [
        "import ssl\n",
        "ssl._create_default_https_context = ssl._create_unverified_context"
      ],
      "metadata": {
        "id": "N3K9p40A42qh"
      },
      "execution_count": null,
      "outputs": []
    },
    {
      "cell_type": "code",
      "source": [
        "rand_seed = 12\n",
        "np.random.seed(rand_seed)\n",
        "torch.manual_seed(rand_seed)\n",
        "\n",
        "use_cuda = torch.cuda.is_available()\n",
        "device = torch.device('cuda' if use_cuda else 'cpu')"
      ],
      "metadata": {
        "id": "5JLcA-XEr9ZU"
      },
      "execution_count": null,
      "outputs": []
    },
    {
      "cell_type": "code",
      "source": [
        "device = torch.device(\"cpu\")\n",
        "if torch.cuda.is_available():\n",
        "   print(\"Training on GPU\")\n",
        "   device = torch.device(\"cuda:0\")"
      ],
      "metadata": {
        "colab": {
          "base_uri": "https://localhost:8080/"
        },
        "id": "UOg1Rx9MxXS2",
        "outputId": "09006326-329d-4ec9-a616-a36c6296714d"
      },
      "execution_count": null,
      "outputs": [
        {
          "output_type": "stream",
          "name": "stdout",
          "text": [
            "Training on GPU\n"
          ]
        }
      ]
    },
    {
      "cell_type": "code",
      "source": [
        "mnist_mean = 0.5\n",
        "mnist_std = 0.5\n",
        "mnist_dim = 28\n",
        "\n",
        "mnist_min, mnist_max = get_clip_bounds(mnist_mean,\n",
        "                                       mnist_std,\n",
        "                                       mnist_dim)\n",
        "mnist_min = mnist_min.to(device)\n",
        "mnist_max = mnist_max.to(device)\n",
        "\n",
        "mnist_tf = transforms.Compose([\n",
        "    transforms.ToTensor(),\n",
        "    transforms.Normalize(\n",
        "        mean=mnist_mean,\n",
        "        std=mnist_std)])\n",
        "\n",
        "mnist_tf_train = transforms.Compose([\n",
        "    transforms.RandomHorizontalFlip(),\n",
        "    transforms.ToTensor(),\n",
        "    transforms.Normalize(\n",
        "        mean=mnist_mean,\n",
        "        std=mnist_std)])\n",
        "\n",
        "mnist_tf_inv = transforms.Compose([\n",
        "    transforms.Normalize(\n",
        "        mean=0.0,\n",
        "        std=np.divide(1.0, mnist_std)),\n",
        "    transforms.Normalize(\n",
        "        mean=np.multiply(-1.0, mnist_std),\n",
        "        std=1.0)])\n",
        "\n",
        "mnist_temp = datasets.MNIST(root='datasets/mnist', train=True,\n",
        "                            download=True, transform=mnist_tf_train)\n",
        "mnist_train, mnist_val = random_split(mnist_temp, [50000, 10000])\n",
        "\n",
        "mnist_test = datasets.MNIST(root='datasets/mnist', train=False,\n",
        "                            download=True, transform=mnist_tf)"
      ],
      "metadata": {
        "id": "bDw47-Ons_hQ"
      },
      "execution_count": null,
      "outputs": []
    },
    {
      "cell_type": "code",
      "source": [
        "cifar_mean = [0.491, 0.482, 0.447]\n",
        "cifar_std = [0.202, 0.199, 0.201]\n",
        "cifar_dim = 32\n",
        "\n",
        "cifar_min, cifar_max = get_clip_bounds(cifar_mean,\n",
        "                                       cifar_std,\n",
        "                                       cifar_dim)\n",
        "cifar_min = cifar_min.to(device)\n",
        "cifar_max = cifar_max.to(device)\n",
        "\n",
        "cifar_tf = transforms.Compose([\n",
        "    transforms.ToTensor(),\n",
        "    transforms.Normalize(\n",
        "        mean=cifar_mean,\n",
        "        std=cifar_std)])\n",
        "\n",
        "cifar_tf_train = transforms.Compose([\n",
        "    transforms.RandomCrop(\n",
        "        size=cifar_dim,\n",
        "        padding=4),\n",
        "    transforms.RandomHorizontalFlip(),\n",
        "    transforms.ToTensor(),\n",
        "    transforms.Normalize(\n",
        "        mean=cifar_mean,\n",
        "        std=cifar_std)])\n",
        "\n",
        "cifar_tf_inv = transforms.Compose([\n",
        "    transforms.Normalize(\n",
        "        mean=[0.0, 0.0, 0.0],\n",
        "        std=np.divide(1.0, cifar_std)),\n",
        "    transforms.Normalize(\n",
        "        mean=np.multiply(-1.0, cifar_mean),\n",
        "        std=[1.0, 1.0, 1.0])])\n",
        "\n",
        "cifar_temp = datasets.CIFAR10(root='datasets/cifar-10', train=True,\n",
        "                              download=True, transform=cifar_tf_train)\n",
        "cifar_train, cifar_val = random_split(cifar_temp, [40000, 10000])\n",
        "\n",
        "cifar_test = datasets.CIFAR10(root='datasets/cifar-10', train=False,\n",
        "                              download=True, transform=cifar_tf)\n",
        "\n",
        "cifar_classes = ['airplane', 'automobile', 'bird', 'cat', 'deer',\n",
        "                 'dog', 'frog', 'horse', 'ship', 'truck']"
      ],
      "metadata": {
        "colab": {
          "base_uri": "https://localhost:8080/"
        },
        "id": "qW3-wRhUtz6l",
        "outputId": "fa8b06cb-f6df-4995-a93c-60fe996b2278"
      },
      "execution_count": null,
      "outputs": [
        {
          "output_type": "stream",
          "name": "stdout",
          "text": [
            "Files already downloaded and verified\n",
            "Files already downloaded and verified\n"
          ]
        }
      ]
    },
    {
      "cell_type": "code",
      "source": [
        "batch_size = 64\n",
        "workers = 4\n",
        "\n",
        "mnist_loader_train = DataLoader(mnist_train, batch_size=batch_size,\n",
        "                                shuffle=True, num_workers=workers)\n",
        "mnist_loader_val = DataLoader(mnist_val, batch_size=batch_size,\n",
        "                              shuffle=False, num_workers=workers)\n",
        "mnist_loader_test = DataLoader(mnist_test, batch_size=batch_size,\n",
        "                               shuffle=False, num_workers=workers)\n",
        "\n",
        "cifar_loader_train = DataLoader(cifar_train, batch_size=batch_size,\n",
        "                                shuffle=True, num_workers=workers)\n",
        "cifar_loader_val = DataLoader(cifar_val, batch_size=batch_size,\n",
        "                              shuffle=False, num_workers=workers)\n",
        "cifar_loader_test = DataLoader(cifar_test, batch_size=batch_size,\n",
        "                               shuffle=False, num_workers=workers)"
      ],
      "metadata": {
        "id": "ZFFsrGaIvKoA"
      },
      "execution_count": null,
      "outputs": []
    },
    {
      "cell_type": "code",
      "source": [
        "deep_batch_size = 10\n",
        "deep_num_classes = 10\n",
        "deep_overshoot = 0.02\n",
        "deep_max_iters = 50\n",
        "\n",
        "deep_args = [deep_batch_size, deep_num_classes,\n",
        "             deep_overshoot, deep_max_iters]"
      ],
      "metadata": {
        "id": "s-9Y1pXa3HU-"
      },
      "execution_count": null,
      "outputs": []
    },
    {
      "cell_type": "code",
      "source": [
        "fgsm_eps = 0.2 # проверяем устойчивость модели NIN к FGSM и DeepFool атакам на датасете cifar\n",
        "model = Net().to(device)\n",
        "model.load_state_dict(torch.load('weights/clean/cifar_nin.pth'))\n",
        "\n",
        "evaluate_attack('cifar_nin_fgsm.csv', 'results',\n",
        "                device, model, cifar_loader_test,\n",
        "                cifar_min, cifar_max, fgsm_eps, is_fgsm=True)\n",
        "print('')\n",
        "evaluate_attack('cifar_nin_deepfool.csv', 'results',\n",
        "                device, model, cifar_loader_test,\n",
        "                cifar_min, cifar_max, deep_args, is_fgsm=False)\n",
        "\n",
        "if device.type == 'cuda':\n",
        "    torch.cuda.empty_cache()"
      ],
      "metadata": {
        "colab": {
          "base_uri": "https://localhost:8080/"
        },
        "id": "Fvuf-0u5vPff",
        "outputId": "862e8184-fac9-4879-b8f8-91a0f81bcfcc"
      },
      "execution_count": null,
      "outputs": [
        {
          "output_type": "stream",
          "name": "stderr",
          "text": [
            "<ipython-input-54-967d8b982a3a>:3: FutureWarning: You are using `torch.load` with `weights_only=False` (the current default value), which uses the default pickle module implicitly. It is possible to construct malicious pickle data which will execute arbitrary code during unpickling (See https://github.com/pytorch/pytorch/blob/main/SECURITY.md#untrusted-models for more details). In a future release, the default value for `weights_only` will be flipped to `True`. This limits the functions that could be executed during unpickling. Arbitrary objects will no longer be allowed to be loaded via this mode unless they are explicitly allowlisted by the user via `torch.serialization.add_safe_globals`. We recommend you start setting `weights_only=True` for any use case where you don't have full control of the loaded file. Please open an issue on GitHub for any issues related to this experimental feature.\n",
            "  model.load_state_dict(torch.load('weights/clean/cifar_nin.pth'))\n",
            "/usr/local/lib/python3.10/dist-packages/torch/utils/data/dataloader.py:557: UserWarning: This DataLoader will create 4 worker processes in total. Our suggested max number of worker in current system is 2, which is smaller than what this DataLoader is going to create. Please be aware that excessive worker creation might get DataLoader running slow or even freeze, lower the worker number to avoid potential slowness/freeze if necessary.\n",
            "  warnings.warn(_create_warning_msg(\n"
          ]
        },
        {
          "output_type": "stream",
          "name": "stdout",
          "text": [
            "FGSM Batches Complete : (157 / 157)\n",
            "FGSM Test Error : 81.29%\n",
            "FGSM Robustness : 1.77e-01\n",
            "FGSM Time (All Images) : 1.28 s\n",
            "FGSM Time (Per Image) : 127.75 us\n",
            "\n",
            "DeepFool Test Error : 93.76%\n",
            "DeepFool Robustness : 2.12e-02\n",
            "DeepFool Time (All Images) : 185.12 s\n",
            "DeepFool Time (Per Image) : 18.51 ms\n"
          ]
        }
      ]
    },
    {
      "cell_type": "code",
      "source": [
        "fgsm_eps = 0.2 # проверяем устойчивость модели FC к FGSM и DeepFool атакам на датасете MNIST\n",
        "model = FC_500_150().to(device)\n",
        "model.load_state_dict(torch.load('weights/clean/mnist_fc.pth'))\n",
        "\n",
        "evaluate_attack('mnist_fc_fgsm.csv', 'results',\n",
        "                device, model, mnist_loader_test,\n",
        "                mnist_min, mnist_max, fgsm_eps, is_fgsm=True)\n",
        "print('')\n",
        "evaluate_attack('mnist_fc_deepfool.csv', 'results',\n",
        "                device, model, mnist_loader_test,\n",
        "                mnist_min, mnist_max, deep_args, is_fgsm=False)\n",
        "\n",
        "if device.type == 'cuda':\n",
        "    torch.cuda.empty_cache()"
      ],
      "metadata": {
        "colab": {
          "base_uri": "https://localhost:8080/"
        },
        "id": "ASJ_M0V-EyjV",
        "outputId": "2a5814c4-3114-4bc3-8e31-5d02eb1bbcda"
      },
      "execution_count": null,
      "outputs": [
        {
          "output_type": "stream",
          "name": "stdout",
          "text": [
            "FGSM Test Error : 87.08%\n",
            "FGSM Robustness : 1.56e-01\n",
            "FGSM Time (All Images) : 0.15 s\n",
            "FGSM Time (Per Image) : 14.99 us\n",
            "\n",
            "DeepFool Test Error : 97.92%\n",
            "DeepFool Robustness : 6.78e-02\n",
            "DeepFool Time (All Images) : 141.81 s\n",
            "DeepFool Time (Per Image) : 14.18 ms\n"
          ]
        },
        {
          "output_type": "stream",
          "name": "stderr",
          "text": [
            "<ipython-input-57-993e6a10ed26>:3: FutureWarning: You are using `torch.load` with `weights_only=False` (the current default value), which uses the default pickle module implicitly. It is possible to construct malicious pickle data which will execute arbitrary code during unpickling (See https://github.com/pytorch/pytorch/blob/main/SECURITY.md#untrusted-models for more details). In a future release, the default value for `weights_only` will be flipped to `True`. This limits the functions that could be executed during unpickling. Arbitrary objects will no longer be allowed to be loaded via this mode unless they are explicitly allowlisted by the user via `torch.serialization.add_safe_globals`. We recommend you start setting `weights_only=True` for any use case where you don't have full control of the loaded file. Please open an issue on GitHub for any issues related to this experimental feature.\n",
            "  model.load_state_dict(torch.load('weights/clean/mnist_fc.pth'))\n"
          ]
        }
      ]
    },
    {
      "cell_type": "code",
      "source": [
        "fgsm_eps = 0.1 # проверяем устойчивость модели LeNet к FGSM и DeepFool атакам на датасете cifar\n",
        "model = LeNet_CIFAR().to(device)\n",
        "model.load_state_dict(torch.load('weights/clean/cifar_lenet.pth'))\n",
        "\n",
        "evaluate_attack('cifar_lenet_fgsm.csv', 'results',\n",
        "                device, model, cifar_loader_test,\n",
        "                cifar_min, cifar_max, fgsm_eps, is_fgsm=True)\n",
        "print('')\n",
        "evaluate_attack('cifar_lenet_deepfool.csv', 'results',\n",
        "                device, model, cifar_loader_test,\n",
        "                cifar_min, cifar_max, deep_args, is_fgsm=False)\n",
        "\n",
        "if device.type == 'cuda':\n",
        "    torch.cuda.empty_cache()"
      ],
      "metadata": {
        "colab": {
          "base_uri": "https://localhost:8080/"
        },
        "id": "8o-rzOvvwkWd",
        "outputId": "c77ffc02-a392-4e4c-b9ef-b5fbfdd70f86"
      },
      "execution_count": null,
      "outputs": [
        {
          "output_type": "stream",
          "name": "stdout",
          "text": [
            "FGSM Test Error : 91.71%\n",
            "FGSM Robustness : 8.90e-02\n",
            "FGSM Time (All Images) : 0.40 s\n",
            "FGSM Time (Per Image) : 40.08 us\n",
            "\n",
            "DeepFool Test Error : 87.81%\n",
            "DeepFool Robustness : 1.78e-02\n",
            "DeepFool Time (All Images) : 73.27 s\n",
            "DeepFool Time (Per Image) : 7.33 ms\n"
          ]
        },
        {
          "output_type": "stream",
          "name": "stderr",
          "text": [
            "<ipython-input-13-9322572ea7d4>:3: FutureWarning: You are using `torch.load` with `weights_only=False` (the current default value), which uses the default pickle module implicitly. It is possible to construct malicious pickle data which will execute arbitrary code during unpickling (See https://github.com/pytorch/pytorch/blob/main/SECURITY.md#untrusted-models for more details). In a future release, the default value for `weights_only` will be flipped to `True`. This limits the functions that could be executed during unpickling. Arbitrary objects will no longer be allowed to be loaded via this mode unless they are explicitly allowlisted by the user via `torch.serialization.add_safe_globals`. We recommend you start setting `weights_only=True` for any use case where you don't have full control of the loaded file. Please open an issue on GitHub for any issues related to this experimental feature.\n",
            "  model.load_state_dict(torch.load('weights/clean/cifar_lenet.pth'))\n"
          ]
        }
      ]
    },
    {
      "cell_type": "code",
      "source": [
        "fgsm_eps = 0.6 # проверяем устойчивость модели LeNet к FGSM и DeepFool атакам на датасете MNIST\n",
        "model = LeNet_MNIST().to(device)\n",
        "model.load_state_dict(torch.load('weights/clean/mnist_lenet.pth'))\n",
        "\n",
        "evaluate_attack('mnist_lenet_fgsm.csv', 'results',\n",
        "                device, model, mnist_loader_test,\n",
        "                mnist_min, mnist_max, fgsm_eps, is_fgsm=True)\n",
        "print('')\n",
        "evaluate_attack('mnist_lenet_deepfool.csv', 'results',\n",
        "                device, model, mnist_loader_test,\n",
        "                mnist_min, mnist_max, deep_args, is_fgsm=False)\n",
        "\n",
        "if device.type == 'cuda':\n",
        "    torch.cuda.empty_cache()"
      ],
      "metadata": {
        "colab": {
          "base_uri": "https://localhost:8080/"
        },
        "id": "rH-FzJ-0Fxr_",
        "outputId": "d40392cd-86e1-41ec-ad14-8308a8c6d119"
      },
      "execution_count": null,
      "outputs": [
        {
          "output_type": "stream",
          "name": "stdout",
          "text": [
            "FGSM Test Error : 87.89%\n",
            "FGSM Robustness : 4.58e-01\n",
            "FGSM Time (All Images) : 0.29 s\n",
            "FGSM Time (Per Image) : 28.86 us\n",
            "\n",
            "DeepFool Test Error : 98.74%\n",
            "DeepFool Robustness : 9.64e-02\n",
            "DeepFool Time (All Images) : 193.32 s\n",
            "DeepFool Time (Per Image) : 19.33 ms\n"
          ]
        },
        {
          "output_type": "stream",
          "name": "stderr",
          "text": [
            "<ipython-input-59-64d098ab6596>:3: FutureWarning: You are using `torch.load` with `weights_only=False` (the current default value), which uses the default pickle module implicitly. It is possible to construct malicious pickle data which will execute arbitrary code during unpickling (See https://github.com/pytorch/pytorch/blob/main/SECURITY.md#untrusted-models for more details). In a future release, the default value for `weights_only` will be flipped to `True`. This limits the functions that could be executed during unpickling. Arbitrary objects will no longer be allowed to be loaded via this mode unless they are explicitly allowlisted by the user via `torch.serialization.add_safe_globals`. We recommend you start setting `weights_only=True` for any use case where you don't have full control of the loaded file. Please open an issue on GitHub for any issues related to this experimental feature.\n",
            "  model.load_state_dict(torch.load('weights/clean/mnist_lenet.pth'))\n"
          ]
        }
      ]
    }
  ]
}